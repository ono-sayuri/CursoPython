{
  "nbformat": 4,
  "nbformat_minor": 0,
  "metadata": {
    "colab": {
      "name": "Atividade02.ipynb",
      "provenance": [],
      "authorship_tag": "ABX9TyOmnYUQh3qaG40K2sxLmn0W",
      "include_colab_link": true
    },
    "kernelspec": {
      "name": "python3",
      "display_name": "Python 3"
    },
    "language_info": {
      "name": "python"
    }
  },
  "cells": [
    {
      "cell_type": "markdown",
      "metadata": {
        "id": "view-in-github",
        "colab_type": "text"
      },
      "source": [
        "<a href=\"https://colab.research.google.com/github/ono-sayuri/CursoPython/blob/main/Atividade02.ipynb\" target=\"_parent\"><img src=\"https://colab.research.google.com/assets/colab-badge.svg\" alt=\"Open In Colab\"/></a>"
      ]
    },
    {
      "cell_type": "markdown",
      "source": [
        "O preço da laranja está R$ 3,50 por quilo. É considerado que cada uma pesa 160g. Faça um programa que tenha como entrada a quantidade de laranjas e mostre o valor em reais."
      ],
      "metadata": {
        "id": "loQ8HYlZqreh"
      }
    },
    {
      "cell_type": "code",
      "execution_count": null,
      "metadata": {
        "id": "qZOdnAiAqpje"
      },
      "outputs": [],
      "source": [
        "valor_kg = 3.5\n",
        "peso_laranja = 0.16\n",
        "quantidade_laranjas = int(input(\"Insira a quantidade de laranjas: \"))\n",
        "valor_total = quantidade_laranjas * (valor_kg * peso_laranja)\n",
        "print(f\"Valor total R$ {valor_total}\")"
      ]
    },
    {
      "cell_type": "markdown",
      "source": [
        "A nota do semestre de um aluno é definida pela média das notas bimestrais. Crie um programa que leia as notas bimestrais e mostre a média semestral de um aluno.\n"
      ],
      "metadata": {
        "id": "9rzvsv2rquJf"
      }
    },
    {
      "cell_type": "code",
      "source": [
        " nota1 = float(input(\"Nota do 1° bimestre: \"))\n",
        " nota2 = float(input(\"Nota do 2° bimestre: \"))\n",
        " media = (nota1 + nota2)/2\n",
        " print(f\"A média semestral do aluno é {media}\")"
      ],
      "metadata": {
        "id": "c9e97GUdqwi-"
      },
      "execution_count": null,
      "outputs": []
    },
    {
      "cell_type": "markdown",
      "source": [
        "Uma empresa deseja cadastrar em seu banco de dados os nomes de candidatos a vagas de trabalho. Os nomes são recebidos dos usuários e é necessário adotar um padrão. Foi decidido que os nomes estariam todos em letras maiúsculas e sem espaços no início e no final. Também é desejado que o primeiro nome, nome do meio e sobrenome seja gravado de forma separada."
      ],
      "metadata": {
        "id": "WDDMYIC-qzOm"
      }
    },
    {
      "cell_type": "code",
      "source": [
        "usuario = input(\"Insira o seu nome completo: \").strip().upper()\n",
        "separador_nome = usuario.split()\n",
        "primeiro_nome = separador_nome[:1]\n",
        "armazenar_primeiro_nome = \" \".join(primeiro_nome) # unir os elementos da lista\n",
        "nome_do_meio = separador_nome[1:len(separador_nome)-1]\n",
        "armazenar_nome_do_meio = \" \".join(nome_do_meio)\n",
        "sobrenome = separador_nome[len(separador_nome)-1:]\n",
        "armazenar_sobrenome = \" \".join(sobrenome)\n",
        "print(\"Usuário: {}\" .format(usuario))\n",
        "print(\"Primeiro Nome: {}\" .format(armazenar_primeiro_nome))\n",
        "print(\"Nome do Meio: {}\" .format(armazenar_nome_do_meio))\n",
        "print(\"Sobrenome: {}\" .format(armazenar_sobrenome)) "
      ],
      "metadata": {
        "colab": {
          "base_uri": "https://localhost:8080/"
        },
        "id": "t6uwG9Jtqzvm",
        "outputId": "ed4269b7-80d1-4b93-a109-02ec9eab2585"
      },
      "execution_count": 17,
      "outputs": [
        {
          "output_type": "stream",
          "name": "stdout",
          "text": [
            "Insira o seu nome completo: vanessa aparecida da silva ono\n",
            "Usuário: VANESSA APARECIDA DA SILVA ONO\n",
            "Primeiro Nome: VANESSA\n",
            "Nome do Meio: APARECIDA DA SILVA\n",
            "Sobrenome: ONO\n"
          ]
        }
      ]
    }
  ]
}