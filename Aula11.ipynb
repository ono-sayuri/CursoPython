{
  "nbformat": 4,
  "nbformat_minor": 0,
  "metadata": {
    "colab": {
      "name": "Aula11.ipynb",
      "provenance": [],
      "authorship_tag": "ABX9TyNmOhqjmADihQSZzFt8usyo",
      "include_colab_link": true
    },
    "kernelspec": {
      "name": "python3",
      "display_name": "Python 3"
    },
    "language_info": {
      "name": "python"
    }
  },
  "cells": [
    {
      "cell_type": "markdown",
      "metadata": {
        "id": "view-in-github",
        "colab_type": "text"
      },
      "source": [
        "<a href=\"https://colab.research.google.com/github/ono-sayuri/CursoPython/blob/main/Aula11.ipynb\" target=\"_parent\"><img src=\"https://colab.research.google.com/assets/colab-badge.svg\" alt=\"Open In Colab\"/></a>"
      ]
    },
    {
      "cell_type": "markdown",
      "source": [
        "Crie uma classe Pessoa que tenha atributos nome, altura, peso e data de nascimento (separar por dia, mês e ano). Faça um método para mostrar na tela o seu IMC e qual é a faixa de peso em que a pessoa se encontra.\n"
      ],
      "metadata": {
        "id": "2YJsx4wZS_NL"
      }
    },
    {
      "cell_type": "code",
      "execution_count": 11,
      "metadata": {
        "colab": {
          "base_uri": "https://localhost:8080/"
        },
        "id": "_9gNMGc7S45Y",
        "outputId": "2423e517-529c-42eb-f7c8-5357f03baaf6"
      },
      "outputs": [
        {
          "output_type": "stream",
          "name": "stdout",
          "text": [
            "Nome: Victoria\n",
            "Data de Nascimento: 24/10/1999\n",
            "IMC: 33.41240936883958\n",
            "Atenção! Sobrepeso!\n",
            "Classificação: Obesidade Tipo I.\n",
            "Risco moderado de comorbidades!\n"
          ]
        }
      ],
      "source": [
        "from math import pow\n",
        "\n",
        "class Pessoa:\n",
        "  def __init__(self, nome, altura, peso, diaNascimento, mesNascimento, anoNascimento):\n",
        "    self.nome = nome\n",
        "    self.altura = altura\n",
        "    self.peso = peso\n",
        "    self.diaNascimento = diaNascimento\n",
        "    self.mesNascimento = mesNascimento\n",
        "    self.anoNascimento = anoNascimento\n",
        "\n",
        "  def imc(self):\n",
        "    indice = self.peso / pow(self.altura, 2)\n",
        "    print('Nome: {}' .format(self.nome))\n",
        "    print('Data de Nascimento: {}/{}/{}' .format(self.diaNascimento, self.mesNascimento, self.anoNascimento))\n",
        "    print('IMC: {}' .format(indice))\n",
        "    if indice < 18.5:\n",
        "      print('Classificação: Abaixo do peso.\\nBaixo risco de comorbidades!')\n",
        "    elif indice >= 18.5 and indice <= 24.9:\n",
        "      print('Classificação: Peso normal.\\nMédio risco de comorbidades!')\n",
        "    elif indice >= 25:\n",
        "      print('Atenção! Sobrepeso!')\n",
        "      if indice > 25 and indice <= 29.9:\n",
        "        print('Classificação: Pré-Obesidade.\\nRisco de comorbidades elevando-se!')\n",
        "      elif indice >= 30 and indice <= 34.9:\n",
        "        print('Classificação: Obesidade Tipo I.\\nRisco moderado de comorbidades!')\n",
        "      elif indice >= 35 and indice <= 39.9:\n",
        "        print('Classificação: Obesidade Tipo II.\\nRisco grave de comorbidades!')\n",
        "      else:\n",
        "        print('Classificação: Obesidade Tipo III.\\nRisco muito grave de comorbidades!')\n",
        "\n",
        "\n",
        "individuo = Pessoa('Victoria', 1.73, 100, 24, '10', 1999)\n",
        "\n",
        "individuo.imc()"
      ]
    }
  ]
}