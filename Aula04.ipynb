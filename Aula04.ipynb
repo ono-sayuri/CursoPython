{
  "nbformat": 4,
  "nbformat_minor": 0,
  "metadata": {
    "colab": {
      "name": "Aula04.ipynb",
      "provenance": [],
      "authorship_tag": "ABX9TyMUdtGS3954Oz1Ie+/i9D36",
      "include_colab_link": true
    },
    "kernelspec": {
      "name": "python3",
      "display_name": "Python 3"
    },
    "language_info": {
      "name": "python"
    }
  },
  "cells": [
    {
      "cell_type": "markdown",
      "metadata": {
        "id": "view-in-github",
        "colab_type": "text"
      },
      "source": [
        "<a href=\"https://colab.research.google.com/github/ono-sayuri/CursoPython/blob/main/Aula04.ipynb\" target=\"_parent\"><img src=\"https://colab.research.google.com/assets/colab-badge.svg\" alt=\"Open In Colab\"/></a>"
      ]
    },
    {
      "cell_type": "markdown",
      "source": [
        "Um computador costuma apitar quando é ligado. Tais apitos são apitos de diagnóstico, indicando se há algum problema ou não. Se houver um problema, o apito é diferente. Para cada fabricante de BIOS, há uma codificação diferente.\n",
        "\n",
        "Crie um programa que indique qual é o erro gerado para ajudar usuários. A entrada do programa é o número de apitos. De acordo com o número de apitos fornecido pelo usuário, mostre qual é o erro deste suposto computador."
      ],
      "metadata": {
        "id": "xPcO26MwB-8b"
      }
    },
    {
      "cell_type": "code",
      "execution_count": 4,
      "metadata": {
        "colab": {
          "base_uri": "https://localhost:8080/"
        },
        "id": "8ZselcGcB1QM",
        "outputId": "2bde73cc-ba2f-485f-cbcb-6b6331e2401d"
      },
      "outputs": [
        {
          "output_type": "stream",
          "name": "stdout",
          "text": [
            "Insira o número de apitos de diagnóstico: 5\n",
            "Diagnóstico: Processador\n"
          ]
        }
      ],
      "source": [
        "num_apito = int(input(\"Insira o número de apitos de diagnóstico: \"))\n",
        "if num_apito == 1:\n",
        "  print(\"Diagnóstico: Atualização de DRAM\")\n",
        "elif num_apito == 2:\n",
        "  print(\"Diagnóstico: Circuito de Paridade\")\n",
        "elif num_apito == 3:\n",
        "  print(\"Diagnóstico: Memória Base 64K RAM\")\n",
        "elif num_apito == 4:\n",
        "  print(\"Diagnóstico: Timer do Sistema\")\n",
        "elif num_apito == 5:\n",
        "  print(\"Diagnóstico: Processador\")\n",
        "else:\n",
        "  print(\"Diagnóstico não encontrado. Insira o número de apitos entre 1 a 5\")"
      ]
    },
    {
      "cell_type": "markdown",
      "source": [
        "Leia uma nota de um aluno, de 0 à 10 e mostre na tela o seu conceito. Considere: \n",
        "\n",
        "nota >= 9,0 -> Excelente\n",
        "\n",
        ">= 7,0 e < 9,0 -> Bom\n",
        "\n",
        ">= 5,0 e < 7,0 -> Razoável\n",
        "\n",
        "< 5,0 -> Fraco\n"
      ],
      "metadata": {
        "id": "Kntb5dVwDi7_"
      }
    },
    {
      "cell_type": "code",
      "source": [
        "nota = float(input(\"Insira a nota do aluno: \"))\n",
        "if nota >= 9.0 and nota <= 10.0:\n",
        "  print(\"Conceito: Excelente!\")\n",
        "elif nota >= 7.0 and nota < 9.0:\n",
        "  print(\"Conceito: Bom!\")\n",
        "elif nota >= 5.0 and nota < 7.0:\n",
        "  print(\"Conceito: Razoável!\")\n",
        "elif nota < 5.0 and nota >= 0:\n",
        "  print(\"Conceito: Fraco\")\n",
        "else:\n",
        "  print(\"Insira uma nota entre 0 à 10\") "
      ],
      "metadata": {
        "colab": {
          "base_uri": "https://localhost:8080/"
        },
        "id": "HiqojqDVDocG",
        "outputId": "a9ef3c73-9e70-4192-9454-b28eb9179ec6"
      },
      "execution_count": 6,
      "outputs": [
        {
          "output_type": "stream",
          "name": "stdout",
          "text": [
            "Insira a nota do aluno: 9.5\n",
            "Conceito: Excelente!\n"
          ]
        }
      ]
    },
    {
      "cell_type": "markdown",
      "source": [
        "Escreva na tela “Boa Madrugada”, “Bom dia”, “Boa tarde” ou “Boa noite” dependendo da hora do dia que o usuário digitar no teclado. Caso a hora seja inválida mostre: “Erro. Hora inválida”. Opcional: mostre uma imagem diferente para cada alternativa.\n"
      ],
      "metadata": {
        "id": "1eZUrcyMEtDO"
      }
    },
    {
      "cell_type": "code",
      "source": [
        "hora = int(input(\"Insira um horário: \"))\n",
        "if hora < 0:\n",
        "  print(\"Erro. Hora inválida. O horário deve ser maior do que 0h.\")\n",
        "elif hora >= 18 and hora <= 24:\n",
        "  print(\"Boa noite\")\n",
        "elif hora < 6:\n",
        "  print(\"Boa madrugada\")\n",
        "elif hora < 12:\n",
        "  print(\"Bom dia\")\n",
        "elif hora < 18:\n",
        "  print(\"Boa tarde\")\n",
        "else:\n",
        "  print(\"Erro. Hora inválida. O horário deve ser menor do que 24h\")\n"
      ],
      "metadata": {
        "colab": {
          "base_uri": "https://localhost:8080/"
        },
        "id": "GtEKQDe7EtmV",
        "outputId": "dd4ae5a2-8fa9-44aa-9dc5-7c0e85fd8776"
      },
      "execution_count": 12,
      "outputs": [
        {
          "output_type": "stream",
          "name": "stdout",
          "text": [
            "Insira um horário: 22\n",
            "Boa noite\n"
          ]
        }
      ]
    },
    {
      "cell_type": "markdown",
      "source": [
        "Leia do teclado as dimensões de um retângulo (base e altura), calcular e escrever a área do retângulo. (Valores inválidos: 0 e números negativos).\n"
      ],
      "metadata": {
        "id": "HBOCtk9CFwJr"
      }
    },
    {
      "cell_type": "code",
      "source": [
        "base = float(input(\"Insira a base do retângulo [cm]: \"))\n",
        "altura = float(input(\"Insira a altura do retângulo [cm]: \"))\n",
        "while base <= 0 or altura <= 0:\n",
        "  if base <= 0:\n",
        "    base = float(input(\"Insira a base do retângulo [cm]: \"))\n",
        "  else:\n",
        "    altura = float(input(\"Insira a altura do retângulo [cm]: \"))\n",
        "area = base * altura\n",
        "print(\"A área do retângulo de base {} [cm] e altura {} [cm] é {:.2f} [cm^2]\" .format(base, altura, area))\n"
      ],
      "metadata": {
        "colab": {
          "base_uri": "https://localhost:8080/"
        },
        "id": "hnFPDCaiFyh7",
        "outputId": "eec22145-da7b-4927-df19-857d8acdc28e"
      },
      "execution_count": 19,
      "outputs": [
        {
          "output_type": "stream",
          "name": "stdout",
          "text": [
            "Insira a base do retângulo [cm]: 0\n",
            "Insira a altura do retângulo [cm]: 5\n",
            "Insira a base do retângulo [cm]: 5\n",
            "A área do retângulo de base 5.0 [cm] e altura 5.0 [cm] é 25.00 [cm^2]\n"
          ]
        }
      ]
    },
    {
      "cell_type": "markdown",
      "source": [
        "Leia 2 números e mostre o maior e o menor. (Valores inválidos: números menores que -99 e maiores que 99)."
      ],
      "metadata": {
        "id": "3X0WVbWAF0dT"
      }
    },
    {
      "cell_type": "code",
      "source": [
        "n1 = float(input(\"Digite o primeiro valor: \"))\n",
        "n2 = float(input(\"Digite o segundo valor: \"))\n",
        "while n1 < (-99) or n2 < (-99) or n1 > 99 or n2 > 99:\n",
        "\n",
        "    if n1 < (-99) or n1 > 99:\n",
        "        n1 = float(input(\"Digite o primeiro valor: \"))\n",
        "    elif n2 < (-99) or n2 > (99):\n",
        "        n2 = float(input(\"Digite o segundo valor: \"))\n",
        "    else:\n",
        "        print(\"Os valores inseridos são inválidos\")\n",
        "\n",
        "if n1 > n2:\n",
        "    print(\"Maior valor: {}. Menor valor: {}\" .format(n1, n2))\n",
        "elif n2 > n1:\n",
        "    print(\"Maior valor: {}.Menor valor: {}\" .format(n2, n1))\n",
        "else:\n",
        "    print(\"Os valores inseridos são iguais\")"
      ],
      "metadata": {
        "colab": {
          "base_uri": "https://localhost:8080/"
        },
        "id": "u8OmZDOnF04b",
        "outputId": "d3ae4247-f495-4c43-8495-8b9afa46b5e5"
      },
      "execution_count": 22,
      "outputs": [
        {
          "output_type": "stream",
          "name": "stdout",
          "text": [
            "Digite o primeiro valor: -100\n",
            "Digite o segundo valor: 100\n",
            "Digite o primeiro valor: -100\n",
            "Digite o primeiro valor: 100\n",
            "Digite o primeiro valor: 100\n",
            "Digite o primeiro valor: 50\n",
            "Digite o segundo valor: 20\n",
            "Maior valor: 50.0. Menor valor: 20.0\n"
          ]
        }
      ]
    },
    {
      "cell_type": "markdown",
      "source": [
        "Leia do teclado uma distância em quilômetros e mostre na tela o seu valor convertido em metros. (Valores inválidos: números negativos)."
      ],
      "metadata": {
        "id": "C9IFNmRrF2ca"
      }
    },
    {
      "cell_type": "code",
      "source": [
        "distancia = float(input(\"Insira a distância em km: \"))\n",
        "if distancia < 0:\n",
        "  print(\"O valor inserido é inválido. Insira valores maiores ou iguais a 0.\")\n",
        "  distancia = float(input(\"Insira a distância em km: \"))\n",
        "  metros = distancia * 1000\n",
        "  print(\"A distância em metros é {:.2f} [m]\" .format(metros))\n",
        "else:\n",
        "  metros = distancia * 1000\n",
        "  print(\"A distância em metros é {:.2f} [m]\" .format(metros))"
      ],
      "metadata": {
        "colab": {
          "base_uri": "https://localhost:8080/"
        },
        "id": "fCmAtws9F23K",
        "outputId": "f97e8b79-857b-4b2d-92bb-b20aa8dba18c"
      },
      "execution_count": 18,
      "outputs": [
        {
          "output_type": "stream",
          "name": "stdout",
          "text": [
            "Insira a distância em km: -5\n",
            "O valor inserido é inválido. Insira valores maiores ou iguais a 0.\n",
            "Insira a distância em km: 0\n",
            "A distância em metros é 0.00 [m]\n"
          ]
        }
      ]
    },
    {
      "cell_type": "markdown",
      "source": [
        "Leia do teclado uma distância em metros e mostre na tela o seu valor convertido em quilômetros.(Valores inválidos: números negativos).\n"
      ],
      "metadata": {
        "id": "tq6nkr05F5z8"
      }
    },
    {
      "cell_type": "code",
      "source": [
        "distancia = float(input(\"Insira a distância em metros: \"))\n",
        "if distancia < 0:\n",
        "  print(\"O valor inserido é inválido. Insira valores maiores ou iguais a 0.\")\n",
        "  distancia = float(input(\"Insira a distância em metros: \"))\n",
        "  km = distancia / 1000\n",
        "  print(\"A distância em km é {:.2f} [km]\" .format(km))\n",
        "else:\n",
        "  km = distancia / 1000\n",
        "  print(\"A distância em km é {:.2f} [km]\" .format(km))"
      ],
      "metadata": {
        "colab": {
          "base_uri": "https://localhost:8080/"
        },
        "id": "wpgAWsVrF8v9",
        "outputId": "9b88a7ba-aac5-4463-9b5d-e064753dd3a2"
      },
      "execution_count": 20,
      "outputs": [
        {
          "output_type": "stream",
          "name": "stdout",
          "text": [
            "Insira a distância em metros: 500\n",
            "A distância em km é 0.50 [km]\n"
          ]
        }
      ]
    }
  ]
}