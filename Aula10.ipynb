{
  "nbformat": 4,
  "nbformat_minor": 0,
  "metadata": {
    "colab": {
      "name": "Aula10.ipynb",
      "provenance": [],
      "authorship_tag": "ABX9TyPITqtTeipkgNOjZLLW+sNt",
      "include_colab_link": true
    },
    "kernelspec": {
      "name": "python3",
      "display_name": "Python 3"
    },
    "language_info": {
      "name": "python"
    }
  },
  "cells": [
    {
      "cell_type": "markdown",
      "metadata": {
        "id": "view-in-github",
        "colab_type": "text"
      },
      "source": [
        "<a href=\"https://colab.research.google.com/github/ono-sayuri/CursoPython/blob/main/Aula10.ipynb\" target=\"_parent\"><img src=\"https://colab.research.google.com/assets/colab-badge.svg\" alt=\"Open In Colab\"/></a>"
      ]
    },
    {
      "cell_type": "markdown",
      "source": [
        "Consultando o código das atividades que você já fez, faça funções que (é necessário chamar as funções e mostrar o resultado na tela):\n"
      ],
      "metadata": {
        "id": "PXyf1np282i1"
      }
    },
    {
      "cell_type": "markdown",
      "source": [
        "A medida de eficiência de um carro é medida em km/l (quantos km o carro anda com 1 litro de combustível). Faça um algoritmo que calcule a eficiência de um carro tendo como entrada a distância percorrida e a quantidade de combustível gasta em litros.\n",
        "Exemplo:\n",
        "distância percorrida = 300km\n",
        "quantidade gasta = 20 litros\n",
        "eficiência: 15km/l\n"
      ],
      "metadata": {
        "id": "QuNxLhA69Ir0"
      }
    },
    {
      "cell_type": "code",
      "execution_count": null,
      "metadata": {
        "colab": {
          "base_uri": "https://localhost:8080/"
        },
        "id": "lQ2Kg4CB812A",
        "outputId": "491699a7-7534-4776-e3d9-00c1a150afd7"
      },
      "outputs": [
        {
          "output_type": "stream",
          "name": "stdout",
          "text": [
            "Insira a distância percorrida: 150\n",
            "Insira a quantidade de combustível que foi consumida: 22\n",
            "Eficiência do carro 6.82 km/L\n"
          ]
        }
      ],
      "source": [
        "def eficiencia():\n",
        "  distancia = float(input('Insira a distância percorrida: '))\n",
        "  q_combustivel = float(input('Insira a quantidade de combustível que foi consumida: '))\n",
        "  eficiencia = distancia / q_combustivel\n",
        "  return print('Eficiência do carro {:.2f} km/L' .format(eficiencia))\n",
        "\n",
        "eficiencia()"
      ]
    },
    {
      "cell_type": "markdown",
      "source": [
        "Escreva na tela “Boa Madrugada”, “Bom dia”, “Boa tarde” ou “Boa\n",
        "noite” dependendo da hora do dia que o usuário digitar no\n",
        "teclado. Caso a hora seja inválida mostre: “Erro. Hora inválida”.\n",
        "Opcional: mostre uma imagem diferente para cada alternativa."
      ],
      "metadata": {
        "id": "SxLInxHX-NX9"
      }
    },
    {
      "cell_type": "code",
      "source": [
        "def saudacoes():\n",
        "  hora = int(input('Insira um horário: '))\n",
        "  while hora < 0 or hora > 24:\n",
        "    print('Erro. Hora inválida. O horário deve ser maior do que 0h e menor do que 24h')\n",
        "    hora = int(input('Insira um horário: '))\n",
        "  if hora >= 18 and hora <= 24:\n",
        "    print('Boa noite!')\n",
        "  elif hora < 6:\n",
        "    print('Boa madrugada!')\n",
        "  elif hora < 12:\n",
        "    print('Bom dia!')\n",
        "  elif hora < 18:\n",
        "    print('Boa tarde!')\n",
        "\n",
        "saudacoes()"
      ],
      "metadata": {
        "colab": {
          "base_uri": "https://localhost:8080/"
        },
        "id": "4xq-9s6F-Nvg",
        "outputId": "d2e197c9-8f1d-4926-93aa-abede31934f4"
      },
      "execution_count": null,
      "outputs": [
        {
          "output_type": "stream",
          "name": "stdout",
          "text": [
            "Insira um horário: 25\n",
            "Erro. Hora inválida. O horário deve ser maior do que 0h e menor do que 24h\n",
            "Insira um horário: -1\n",
            "Erro. Hora inválida. O horário deve ser maior do que 0h e menor do que 24h\n",
            "Insira um horário: 14\n",
            "Boa tarde!\n"
          ]
        }
      ]
    },
    {
      "cell_type": "markdown",
      "source": [
        "Mostrar na tela somente números primos de 2 à 100"
      ],
      "metadata": {
        "id": "4r5JTEyO-QgJ"
      }
    },
    {
      "cell_type": "code",
      "source": [
        "def primos():\n",
        "  for i in range(2,100):\n",
        "    primo = True\n",
        "    for k in range(2,i):\n",
        "      if i % k == 0:\n",
        "        primo = False\n",
        "        break\n",
        "    if primo:\n",
        "      print(i, end = ' ')\n",
        "\n",
        "primos()"
      ],
      "metadata": {
        "colab": {
          "base_uri": "https://localhost:8080/"
        },
        "id": "5CEu9BfS-Qvn",
        "outputId": "483d53fb-5797-4dc9-a549-73db928ed6d3"
      },
      "execution_count": null,
      "outputs": [
        {
          "output_type": "stream",
          "name": "stdout",
          "text": [
            "2 3 5 7 11 13 17 19 23 29 31 37 41 43 47 53 59 61 67 71 73 79 83 89 97 "
          ]
        }
      ]
    },
    {
      "cell_type": "markdown",
      "source": [
        "Crie uma lista de string vetI e atribua a cada um de seus elementos um nome com dados vindos do teclado. \n",
        "\n",
        "Por exemplo: \n",
        "\n",
        "vetI[0] => \"Maria\";\n",
        "\n",
        "vetI[1] => \"Joao\";\n",
        "\n",
        "vetI[2] => \"Marcelo\";\n",
        "\n",
        "vetI[3] => \"Antonia\";\n",
        "\n",
        "Atribua à uma string sBusca um nome com dados vindos do teclado. Mostre na tela os valores dos índices que contém sBusca.\n",
        "sBusca => \"Marcelo\"\n",
        "saída: 2\n"
      ],
      "metadata": {
        "id": "I1G38c0e-RAk"
      }
    },
    {
      "cell_type": "code",
      "source": [
        "def lista():\n",
        "  vetI = []\n",
        "  for i in range(8):\n",
        "    nome = input('Insira o nome: ')\n",
        "    vetI.append(nome)\n",
        "  sBusca = input('Insira o nome para realizar a busca: ')\n",
        "  for i, nome in enumerate(vetI):\n",
        "    if nome == sBusca:\n",
        "      print('{} está na {} posição' .format(sBusca, i))\n",
        "\n",
        "lista()"
      ],
      "metadata": {
        "colab": {
          "base_uri": "https://localhost:8080/"
        },
        "id": "IB_UoPCc-W7C",
        "outputId": "b18003a4-dab9-4fd1-8339-f8fcebb709c1"
      },
      "execution_count": null,
      "outputs": [
        {
          "output_type": "stream",
          "name": "stdout",
          "text": [
            "Insira o nome: Daniele\n",
            "Insira o nome: Henrique\n",
            "Insira o nome: Rafael\n",
            "Insira o nome: Milena\n",
            "Insira o nome: Hideki\n",
            "Insira o nome: Mayumi\n",
            "Insira o nome: Beatriz\n",
            "Insira o nome: Gabriel\n",
            "Insira o nome para realizar a busca: Hideki\n",
            "Hideki está na 4 posição\n"
          ]
        }
      ]
    },
    {
      "cell_type": "markdown",
      "source": [
        "Desenvolva uma função que (mostre na tela o resultado chamando a função e receba o retorno caso haja):\n"
      ],
      "metadata": {
        "id": "cslSIdltL9hU"
      }
    },
    {
      "cell_type": "markdown",
      "source": [
        "receba um inteiro e retorne se ele é primo ou não.\n"
      ],
      "metadata": {
        "id": "91V2uzzl-ZvE"
      }
    },
    {
      "cell_type": "code",
      "source": [
        "def primo(n):\n",
        "  if n > 1:\n",
        "    for i in range(2,n):\n",
        "      if n % i == 0:\n",
        "        print(n, 'não é um número primo!')\n",
        "        break\n",
        "    else:\n",
        "      print(n, 'é um número primo!')\n",
        "\n",
        "num = int(input('Insira um número para testar se é primo: '))\n",
        "primo(num)"
      ],
      "metadata": {
        "colab": {
          "base_uri": "https://localhost:8080/"
        },
        "id": "8uf6VUhi-dU5",
        "outputId": "aeba6a18-0c8d-4836-f835-51c4f0960151"
      },
      "execution_count": null,
      "outputs": [
        {
          "output_type": "stream",
          "name": "stdout",
          "text": [
            "Insira um número para testar se é primo: 14\n",
            "14 não é um número primo!\n"
          ]
        }
      ]
    },
    {
      "cell_type": "markdown",
      "source": [
        "receba um inteiro e retorne se ele é quadrado ou não;"
      ],
      "metadata": {
        "id": "XI2zKh9d-dg2"
      }
    },
    {
      "cell_type": "code",
      "source": [
        "from math import sqrt\n",
        "def raiz_quadrada(n):\n",
        "  if(n % sqrt(n)) == 0:\n",
        "    print(n, 'Tem raíz quadrada!')\n",
        "  else:\n",
        "    print(n, 'Não tem raíz quadrada')\n",
        "\n",
        "num = int(input('Insira um número para testar se tem raíz quadrada: '))\n",
        "raiz_quadrada(num)"
      ],
      "metadata": {
        "colab": {
          "base_uri": "https://localhost:8080/"
        },
        "id": "sUA4PuKm-fSI",
        "outputId": "02127c17-da07-44c6-efb5-bc7eed68394a"
      },
      "execution_count": null,
      "outputs": [
        {
          "output_type": "stream",
          "name": "stdout",
          "text": [
            "Insira um número para testar se tem raíz quadrada: 16\n",
            "16 Tem raíz quadrada!\n"
          ]
        }
      ]
    },
    {
      "cell_type": "markdown",
      "source": [
        "Que calcule juros compostos depositados numa conta de poupança. Receba dois floats e um inteiro. O primeiro parâmetro é o valor depositado (float), o segundo deve ser o valor dos juros (float e o terceiro deve ser a quantidade de meses que o dinheiro ficará na poupança (int). Calcule os juros compostos e retorne o valor atualizado."
      ],
      "metadata": {
        "id": "UJURgHXJ-fZg"
      }
    },
    {
      "cell_type": "code",
      "source": [
        "from math import pow\n",
        "def juros():\n",
        "  deposito = float(input('Valor do depósito R$'))\n",
        "  v_juros = float(input('Valor do juros: '))\n",
        "  q_meses = int(input('Quantidade de meses que o dinheiro permanecerá na poupança: '))\n",
        "  montante = deposito * pow((1+(v_juros/100)),q_meses)\n",
        "  juros = montante - deposito\n",
        "  return(print('Juros compostos {:.2f} \\nValor atualizado R$ {:.2f}' .format(juros,montante)))\n",
        "\n",
        "juros()"
      ],
      "metadata": {
        "colab": {
          "base_uri": "https://localhost:8080/"
        },
        "id": "f0WImMBG-hjj",
        "outputId": "449dd969-9f5f-4688-c349-2e1dbe55f5df"
      },
      "execution_count": null,
      "outputs": [
        {
          "output_type": "stream",
          "name": "stdout",
          "text": [
            "Valor do depósito R$5000\n",
            "Valor do juros: 2.5\n",
            "Quantidade de meses que o dinheiro permanecerá na poupança: 12\n",
            "Juros compostos 1724.44 \n",
            "Valor atualizado R$ 6724.44\n"
          ]
        }
      ]
    },
    {
      "cell_type": "markdown",
      "source": [
        "receba por parâmetro uma String e mostre no console a mensagem com uma moldura. A moldura deve acompanhar o tamanho do texto.\n",
        "\n",
        "ex:\n",
        "\n",
        "*---------------------------------*\n",
        "\n",
        "*  mensagem   \n",
        "\n",
        "*---------------------------------* \n"
      ],
      "metadata": {
        "id": "P43HatK0-hxJ"
      }
    },
    {
      "cell_type": "code",
      "source": [
        "def moldura(m):\n",
        "  mensagem = len(m)\n",
        "  print('--{}--' .format('-' * mensagem))\n",
        "  print('* {} *' .format('' .join(m)))\n",
        "  print('--{}--' .format('-' * mensagem))\n",
        "\n",
        "moldura('Avengers, assemble!') \n"
      ],
      "metadata": {
        "id": "6uDpUBbKXFlR",
        "colab": {
          "base_uri": "https://localhost:8080/"
        },
        "outputId": "817b3ac6-70e8-4820-d9d3-d9494aa39397"
      },
      "execution_count": 3,
      "outputs": [
        {
          "output_type": "stream",
          "name": "stdout",
          "text": [
            "-----------------------\n",
            "* Avengers, assemble! *\n",
            "-----------------------\n"
          ]
        }
      ]
    },
    {
      "cell_type": "markdown",
      "source": [
        "receba dois vetores e retorne um vetor com a sua concatenação\n"
      ],
      "metadata": {
        "id": "YWsDE4yjXGMU"
      }
    },
    {
      "cell_type": "code",
      "source": [
        "def vetores(vetA, vetB):\n",
        "  vetA += vetB\n",
        "  return print('Concatenação: ',vetA)\n",
        "\n",
        "vetA = ['Marvel', 'DC']\n",
        "vetB = ['Iron Man', 'Batman']\n",
        "vetores(vetA, vetB)"
      ],
      "metadata": {
        "id": "CClZXyNX-p-V",
        "colab": {
          "base_uri": "https://localhost:8080/"
        },
        "outputId": "b8521895-de68-4f0c-ef7a-4df470a14cce"
      },
      "execution_count": 4,
      "outputs": [
        {
          "output_type": "stream",
          "name": "stdout",
          "text": [
            "Concatenação:  ['Marvel', 'DC', 'Iron Man', 'Batman']\n"
          ]
        }
      ]
    },
    {
      "cell_type": "markdown",
      "source": [
        "crie uma função recursiva chamada jurosCompostos. Ela deve chamar ela mesma e calcular o valor de juros compostos com base no valor, juros e quantidade de meses. Dica: a função se chama recursivamente com a mesma quantidade de meses."
      ],
      "metadata": {
        "id": "zpscDxmZ-qV3"
      }
    },
    {
      "cell_type": "code",
      "source": [
        "def jurosCompostos(valor, juros, meses):\n",
        "    while meses <= 1:\n",
        "        return valor + (valor * juros)\n",
        "    return jurosCompostos(valor + (valor * juros), juros, meses - 1)\n",
        "\n",
        "print(jurosCompostos(5000, 0.01, 3))"
      ],
      "metadata": {
        "id": "07CI0uXy-s-R",
        "colab": {
          "base_uri": "https://localhost:8080/"
        },
        "outputId": "f6eb64e1-da2a-49d0-c4e4-0858fdb82027"
      },
      "execution_count": 7,
      "outputs": [
        {
          "output_type": "stream",
          "name": "stdout",
          "text": [
            "5151.505\n"
          ]
        }
      ]
    }
  ]
}