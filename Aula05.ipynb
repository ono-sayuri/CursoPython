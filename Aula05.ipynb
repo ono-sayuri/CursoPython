{
  "nbformat": 4,
  "nbformat_minor": 0,
  "metadata": {
    "colab": {
      "name": "Aula05.ipynb",
      "provenance": [],
      "authorship_tag": "ABX9TyNTtaal/x6uSWHZegOVt5gF",
      "include_colab_link": true
    },
    "kernelspec": {
      "name": "python3",
      "display_name": "Python 3"
    },
    "language_info": {
      "name": "python"
    }
  },
  "cells": [
    {
      "cell_type": "markdown",
      "metadata": {
        "id": "view-in-github",
        "colab_type": "text"
      },
      "source": [
        "<a href=\"https://colab.research.google.com/github/ono-sayuri/CursoPython/blob/main/Aula05.ipynb\" target=\"_parent\"><img src=\"https://colab.research.google.com/assets/colab-badge.svg\" alt=\"Open In Colab\"/></a>"
      ]
    },
    {
      "cell_type": "markdown",
      "source": [
        "Enquanto a1=0 for menor que 5, incrementando 1 a cada laço, mostre na tela o seu número."
      ],
      "metadata": {
        "id": "0U9lFJCXG7L9"
      }
    },
    {
      "cell_type": "code",
      "execution_count": 9,
      "metadata": {
        "colab": {
          "base_uri": "https://localhost:8080/"
        },
        "id": "wUqi5pnXGypx",
        "outputId": "90b9642a-af51-41f2-b77a-d905959cb472"
      },
      "outputs": [
        {
          "output_type": "stream",
          "name": "stdout",
          "text": [
            "0\n",
            "1\n",
            "2\n",
            "3\n",
            "4\n"
          ]
        }
      ],
      "source": [
        "a1 = 0\n",
        "\n",
        "while a1 < 5:\n",
        "  print(a1)\n",
        "  a1 += 1\n",
        "\n",
        "  "
      ]
    },
    {
      "cell_type": "markdown",
      "source": [
        "Enquanto a2=0 for menor que 3, incrementando 1 a cada laço, mostre na tela o seu número multiplicado por 10.\n"
      ],
      "metadata": {
        "id": "29NImfHyH9fS"
      }
    },
    {
      "cell_type": "code",
      "source": [
        "a2 = 0\n",
        "\n",
        "while a2 < 3:\n",
        "  print(a2 * 10)\n",
        "  a2 += 1"
      ],
      "metadata": {
        "colab": {
          "base_uri": "https://localhost:8080/"
        },
        "id": "5jLZkFRfIT-8",
        "outputId": "1460efa1-0857-4538-8bec-2d3643b06081"
      },
      "execution_count": 10,
      "outputs": [
        {
          "output_type": "stream",
          "name": "stdout",
          "text": [
            "0\n",
            "10\n",
            "20\n"
          ]
        }
      ]
    },
    {
      "cell_type": "markdown",
      "source": [
        "\n",
        "Enquanto a3=20  for maior que 10, decrementando 1 a cada laço, mostre na tela o seu número.\n"
      ],
      "metadata": {
        "id": "-Gixpq9qIAZZ"
      }
    },
    {
      "cell_type": "code",
      "source": [
        "a3 = 20\n",
        "\n",
        "while a3 > 10:\n",
        "  print(a3)\n",
        "  a3 -= 1"
      ],
      "metadata": {
        "colab": {
          "base_uri": "https://localhost:8080/"
        },
        "id": "7RLGqmuGIUp5",
        "outputId": "3fe4c5bd-a863-4f70-ab7d-c4f352512897"
      },
      "execution_count": 11,
      "outputs": [
        {
          "output_type": "stream",
          "name": "stdout",
          "text": [
            "20\n",
            "19\n",
            "18\n",
            "17\n",
            "16\n",
            "15\n",
            "14\n",
            "13\n",
            "12\n",
            "11\n"
          ]
        }
      ]
    },
    {
      "cell_type": "markdown",
      "source": [
        "Para a4=0 enquanto a4 menor que 10, incrementando 1, mostre na tela o seu número"
      ],
      "metadata": {
        "id": "EbWTipuTIEL5"
      }
    },
    {
      "cell_type": "code",
      "source": [
        "a4 = 0\n",
        "\n",
        "while a4 < 10:\n",
        "  print(a4)\n",
        "  a4 += 1"
      ],
      "metadata": {
        "colab": {
          "base_uri": "https://localhost:8080/"
        },
        "id": "4Y4uB6L-IVJi",
        "outputId": "ab1e0ce0-4e7b-48b2-a3ac-5193edf4c6d8"
      },
      "execution_count": 12,
      "outputs": [
        {
          "output_type": "stream",
          "name": "stdout",
          "text": [
            "0\n",
            "1\n",
            "2\n",
            "3\n",
            "4\n",
            "5\n",
            "6\n",
            "7\n",
            "8\n",
            "9\n"
          ]
        }
      ]
    },
    {
      "cell_type": "markdown",
      "source": [
        "Enquanto a1=0 for menor que 5, incrementando 1 a cada laço, mostre na tela o seu número. [UTILIZANDO FOR]"
      ],
      "metadata": {
        "id": "SvMySaLGJ7K_"
      }
    },
    {
      "cell_type": "code",
      "source": [
        "a1 = 0\n",
        "\n",
        "for a1 in range(5):\n",
        "  print(a1)\n"
      ],
      "metadata": {
        "colab": {
          "base_uri": "https://localhost:8080/"
        },
        "id": "g3isU9voJ93J",
        "outputId": "9291495b-0b5a-4f86-d9a0-179ec5d8decb"
      },
      "execution_count": 13,
      "outputs": [
        {
          "output_type": "stream",
          "name": "stdout",
          "text": [
            "0\n",
            "1\n",
            "2\n",
            "3\n",
            "4\n"
          ]
        }
      ]
    },
    {
      "cell_type": "markdown",
      "source": [
        "Enquanto a2=0 for menor que 3, incrementando 1 a cada laço, mostre na tela o seu número multiplicado por 10. [UTILIZANDO FOR]"
      ],
      "metadata": {
        "id": "xURVHdx1KBeW"
      }
    },
    {
      "cell_type": "code",
      "source": [
        "a2 = 0\n",
        "\n",
        "for a2 in range(3):\n",
        "  print(a2*10)"
      ],
      "metadata": {
        "colab": {
          "base_uri": "https://localhost:8080/"
        },
        "id": "GEX2eFHaKDkF",
        "outputId": "46f48152-0279-43fd-a89a-49e42fc59ba7"
      },
      "execution_count": 14,
      "outputs": [
        {
          "output_type": "stream",
          "name": "stdout",
          "text": [
            "0\n",
            "10\n",
            "20\n"
          ]
        }
      ]
    },
    {
      "cell_type": "markdown",
      "source": [
        "Enquanto a3=20 for maior que 10, decrementando 1 a cada laço, mostre na tela o seu número. [UTILIZANDO FOR]"
      ],
      "metadata": {
        "id": "ADULgr_1KF29"
      }
    },
    {
      "cell_type": "code",
      "source": [
        "a3 = 20\n",
        "\n",
        "for a3 in range(20, 10, -1):\n",
        "  print(a3)\n"
      ],
      "metadata": {
        "colab": {
          "base_uri": "https://localhost:8080/"
        },
        "id": "xShBYWpDKHrV",
        "outputId": "b7f43ae6-ebfb-4593-a3eb-458643055aea"
      },
      "execution_count": 15,
      "outputs": [
        {
          "output_type": "stream",
          "name": "stdout",
          "text": [
            "20\n",
            "19\n",
            "18\n",
            "17\n",
            "16\n",
            "15\n",
            "14\n",
            "13\n",
            "12\n",
            "11\n"
          ]
        }
      ]
    },
    {
      "cell_type": "markdown",
      "source": [
        "Para a4=0 enquanto a4 menor que 10, incrementando 1, mostre na tela o seu número. [UTILIZANDO FOR]"
      ],
      "metadata": {
        "id": "CPxf-k85KKVd"
      }
    },
    {
      "cell_type": "code",
      "source": [
        "a4 = 0\n",
        "\n",
        "for a4 in range(10):\n",
        "  print(a4)"
      ],
      "metadata": {
        "colab": {
          "base_uri": "https://localhost:8080/"
        },
        "id": "M4sIMDYDKMlD",
        "outputId": "13e96b3a-e19b-4247-b20f-15523699208f"
      },
      "execution_count": 18,
      "outputs": [
        {
          "output_type": "stream",
          "name": "stdout",
          "text": [
            "0\n",
            "1\n",
            "2\n",
            "3\n",
            "4\n",
            "5\n",
            "6\n",
            "7\n",
            "8\n",
            "9\n"
          ]
        }
      ]
    },
    {
      "cell_type": "markdown",
      "source": [
        "Um trabalhador trabalha 40 horas por semana. Escreva um algoritmo que leia o número de horas trabalhadas em cada semana de um mês, o salário por hora e escreva o salário total do mês do funcionário (considere que o mês possua 4 semanas exatas). Considere que o trabalhador que trabalhar mais de 40 horas em uma semana, recebe hora extra de 50% nas horas que foram trabalhadas a mais. O número de horas por semana não pode ser negativo e não pode ultrapassar 50 horas por semana."
      ],
      "metadata": {
        "id": "aZ0321jUILQA"
      }
    },
    {
      "cell_type": "code",
      "source": [
        "valor = 0\n",
        "for semana in range(1,5):\n",
        "  horas = float(input(\"Insira o número de horas trabalhadas na {}ª semana: \".format(semana)))\n",
        "  while horas < 0 or horas > 50:\n",
        "    print(\"Não é permitido o múmero de horas ser negativo ou superior a 50 h semanais\")\n",
        "    horas = float(input(\"Insira o número de horas trabalhadas na {}ª semana: \".format(semana)))\n",
        "  valor += horas\n",
        "salario_hora = float(input(\"Insira o salário por hora em R$ \"))\n",
        "valor_extra = 0\n",
        "for semana in range(1,5):\n",
        "    horas_extras = float(input(\"Insira o número de horas extras trabalhadas na {}ª semana: \".format(semana)))\n",
        "    while horas_extras > 10:\n",
        "        horas_extras = float(input(\"Insira novamente o número de horas extras trabalhadas na {}ª semana: \".format(semana)))\n",
        "    valor_extra += horas_extras\n",
        "salario_extra = salario_hora * 1.5\n",
        "salario_total = (valor) * salario_hora + (valor_extra) * salario_extra\n",
        "print(\"Salário total sem acréscimos de horas extras: R${:.2f}\".format(salario_total))\n",
        "\n",
        "  "
      ],
      "metadata": {
        "colab": {
          "base_uri": "https://localhost:8080/"
        },
        "id": "BvW7pgbkIVzZ",
        "outputId": "8f09e1c7-ed0d-4440-f5ab-25f8b1bd7a5e"
      },
      "execution_count": 42,
      "outputs": [
        {
          "output_type": "stream",
          "name": "stdout",
          "text": [
            "Insira o número de horas trabalhadas na 1ª semana: 40\n",
            "Insira o número de horas trabalhadas na 2ª semana: 51\n",
            "Não é permitido o múmero de horas ser negativo ou superior a 50 h semanais\n",
            "Insira o número de horas trabalhadas na 2ª semana: 50\n",
            "Insira o número de horas trabalhadas na 3ª semana: 45\n",
            "Insira o número de horas trabalhadas na 4ª semana: 29\n",
            "Insira o salário por hora em R$ 37.5\n",
            "Insira o número de horas extras trabalhadas na 1ª semana: 5\n",
            "Insira o número de horas extras trabalhadas na 2ª semana: 10\n",
            "Insira o número de horas extras trabalhadas na 3ª semana: 20\n",
            "Insira novamente o número de horas extras trabalhadas na 3ª semana: 10\n",
            "Insira o número de horas extras trabalhadas na 4ª semana: 1\n",
            "Salário total sem acréscimos de horas extras: R$7612.50\n"
          ]
        }
      ]
    },
    {
      "cell_type": "markdown",
      "source": [
        "leia 3 valores (A, B e C) representando as medidas de um triângulo. Mostrar se tais medidas formam um triângulo ou não. Lembre-se que o valor de cada lado deve ser menor que a soma dos outros 2 lados e deve ser maior que o valor absoluto da diferença entre os outros 2 lados.\n",
        "\n",
        "| B - C | <  A  < B + C\n",
        "\n",
        "| A - C | <  B  < A + C\n",
        "\n",
        "| A - B | <  C  < A + B\n"
      ],
      "metadata": {
        "id": "mwV8GlpYIO2J"
      }
    },
    {
      "cell_type": "code",
      "source": [
        "a = float(input(\"Insira o valor de A: \"))\n",
        "b = float(input(\"Insira o valor de B: \"))\n",
        "c = float(input(\"Insira o valor de C: \"))\n",
        "\n",
        "while a<0 and b<0 and c<0:\n",
        "  if a<0:\n",
        "    a = float(input(\"Insira o valor de A: \"))\n",
        "  elif b<0:\n",
        "    b = float(input(\"Insira o valor de B: \"))\n",
        "  elif c<0:\n",
        "    c = float(input(\"Insira o valor de C: \"))\n",
        "if ((abs(b-c))<a<(b+c)) or ((abs(a-c))<b<(a+c)) or ((abs(a-b))<c<(a+b)):\n",
        "    print(\"As medidas {:.2f}, {:.2f} e {:.2f} formam um triângulo\" .format(a,b,c))\n",
        "else:\n",
        "    print(\"Não é possível formar um triângulo com essas medidas.\")\n",
        "\n"
      ],
      "metadata": {
        "colab": {
          "base_uri": "https://localhost:8080/"
        },
        "id": "lk_-Y9-EISIx",
        "outputId": "798a7cfe-4cff-41eb-f08a-f98ced008761"
      },
      "execution_count": 22,
      "outputs": [
        {
          "output_type": "stream",
          "name": "stdout",
          "text": [
            "Insira o valor de A: 10\n",
            "Insira o valor de B: 12\n",
            "Insira o valor de C: 12\n",
            "As medidas 10.00, 12.00 e 12.00 formam um triângulo\n"
          ]
        }
      ]
    }
  ]
}