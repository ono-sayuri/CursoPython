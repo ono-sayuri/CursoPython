{
  "nbformat": 4,
  "nbformat_minor": 0,
  "metadata": {
    "colab": {
      "name": "Aula06.ipynb",
      "provenance": [],
      "authorship_tag": "ABX9TyNfCn4SwKqdPS/WRdeTVnZc",
      "include_colab_link": true
    },
    "kernelspec": {
      "name": "python3",
      "display_name": "Python 3"
    },
    "language_info": {
      "name": "python"
    }
  },
  "cells": [
    {
      "cell_type": "markdown",
      "metadata": {
        "id": "view-in-github",
        "colab_type": "text"
      },
      "source": [
        "<a href=\"https://colab.research.google.com/github/ono-sayuri/CursoPython/blob/main/Aula06.ipynb\" target=\"_parent\"><img src=\"https://colab.research.google.com/assets/colab-badge.svg\" alt=\"Open In Colab\"/></a>"
      ]
    },
    {
      "cell_type": "markdown",
      "source": [
        "leia do teclado uma temperatura em graus Fahrenheit e mostre na tela o seu valor convertido em Celsius. Lembrando que (c/5) = (f-32)/9. (Valores inválidos: menores que -457,69)"
      ],
      "metadata": {
        "id": "b8PtyNUtE8cn"
      }
    },
    {
      "cell_type": "code",
      "execution_count": 1,
      "metadata": {
        "colab": {
          "base_uri": "https://localhost:8080/"
        },
        "id": "IB-l9jvDE5Jn",
        "outputId": "a75cd71d-cf8d-4cb1-a08b-e968c2c6504a"
      },
      "outputs": [
        {
          "output_type": "stream",
          "name": "stdout",
          "text": [
            "Insira a temperatura em °F: -458\n",
            "A temperatura inserida é inválida.\n",
            "\n",
            "Insira a temperatura em °F: 35\n",
            "Temperatura em °C: 1.67\n"
          ]
        }
      ],
      "source": [
        "f = float(input(\"Insira a temperatura em °F: \"))\n",
        "while f < -457.69:\n",
        "  print(\"A temperatura inserida é inválida.\\n\")\n",
        "  f = float(input(\"Insira a temperatura em °F: \"))\n",
        "c = ((f - 32) / 9) * 5\n",
        "print(\"Temperatura em °C: {:.2f}\" .format(c))\n"
      ]
    },
    {
      "cell_type": "markdown",
      "source": [
        "leia do teclado uma temperatura em graus Celsius e mostre na tela o seu valor convertido em Kelvin. Lembrando que 0 grau Kelvin = -273,15 Celsius.(Valores inválidos: números negativos)."
      ],
      "metadata": {
        "id": "Z39hF0GAGKpk"
      }
    },
    {
      "cell_type": "code",
      "source": [
        "c = float(input('Insira a temperatura em °C: '))\n",
        "while c < -273.15:\n",
        "  print('Valor inválido. Não é possível uma temperatura menor que o 0 absoluto.')\n",
        "  c = float(input('Insira a temperatura em °C: '))\n",
        "k = c + 273.15\n",
        "print('Temperatura em K: {:.2f}' .format(k))"
      ],
      "metadata": {
        "colab": {
          "base_uri": "https://localhost:8080/"
        },
        "id": "1n8uPPNwGLYE",
        "outputId": "e18589d8-580a-4a79-8066-aac2702f5260"
      },
      "execution_count": 3,
      "outputs": [
        {
          "output_type": "stream",
          "name": "stdout",
          "text": [
            "Insira a temperatura em °C: -300\n",
            "Valor inválido. Não é possível uma temperatura menor que o 0 absoluto.\n",
            "Insira a temperatura em °C: 5\n",
            "Temperatura em K: 278.15\n"
          ]
        }
      ]
    },
    {
      "cell_type": "markdown",
      "source": [
        "Para a7=0 enquanto a7 menor que 10, incrementando 1, insira um outro while aninhado internamente contendo para a8=0 até a8 menor que 10, incrementando 1, mostre na tela \"(a7,a8)\"."
      ],
      "metadata": {
        "id": "rUOMA4OBHPkb"
      }
    },
    {
      "cell_type": "code",
      "source": [
        "a7=0\n",
        "while a7 < 10:\n",
        "  a7 += 1\n",
        "  a8 = 0\n",
        "  while a8 < 10:\n",
        "    a8 += 1\n",
        "    print('{},{}' .format(a7,a8))"
      ],
      "metadata": {
        "colab": {
          "base_uri": "https://localhost:8080/"
        },
        "id": "AVZZjvCoHQGr",
        "outputId": "b0e8cfd2-d1f9-4c62-e636-f30583174733"
      },
      "execution_count": 4,
      "outputs": [
        {
          "output_type": "stream",
          "name": "stdout",
          "text": [
            "1,1\n",
            "1,2\n",
            "1,3\n",
            "1,4\n",
            "1,5\n",
            "1,6\n",
            "1,7\n",
            "1,8\n",
            "1,9\n",
            "1,10\n",
            "2,1\n",
            "2,2\n",
            "2,3\n",
            "2,4\n",
            "2,5\n",
            "2,6\n",
            "2,7\n",
            "2,8\n",
            "2,9\n",
            "2,10\n",
            "3,1\n",
            "3,2\n",
            "3,3\n",
            "3,4\n",
            "3,5\n",
            "3,6\n",
            "3,7\n",
            "3,8\n",
            "3,9\n",
            "3,10\n",
            "4,1\n",
            "4,2\n",
            "4,3\n",
            "4,4\n",
            "4,5\n",
            "4,6\n",
            "4,7\n",
            "4,8\n",
            "4,9\n",
            "4,10\n",
            "5,1\n",
            "5,2\n",
            "5,3\n",
            "5,4\n",
            "5,5\n",
            "5,6\n",
            "5,7\n",
            "5,8\n",
            "5,9\n",
            "5,10\n",
            "6,1\n",
            "6,2\n",
            "6,3\n",
            "6,4\n",
            "6,5\n",
            "6,6\n",
            "6,7\n",
            "6,8\n",
            "6,9\n",
            "6,10\n",
            "7,1\n",
            "7,2\n",
            "7,3\n",
            "7,4\n",
            "7,5\n",
            "7,6\n",
            "7,7\n",
            "7,8\n",
            "7,9\n",
            "7,10\n",
            "8,1\n",
            "8,2\n",
            "8,3\n",
            "8,4\n",
            "8,5\n",
            "8,6\n",
            "8,7\n",
            "8,8\n",
            "8,9\n",
            "8,10\n",
            "9,1\n",
            "9,2\n",
            "9,3\n",
            "9,4\n",
            "9,5\n",
            "9,6\n",
            "9,7\n",
            "9,8\n",
            "9,9\n",
            "9,10\n",
            "10,1\n",
            "10,2\n",
            "10,3\n",
            "10,4\n",
            "10,5\n",
            "10,6\n",
            "10,7\n",
            "10,8\n",
            "10,9\n",
            "10,10\n"
          ]
        }
      ]
    },
    {
      "cell_type": "markdown",
      "source": [
        "Para a6=10 enquanto a6 maior ou igual a 0, decrementando 1, mostre na tela o seu número."
      ],
      "metadata": {
        "id": "Ud9TzH6JIX2I"
      }
    },
    {
      "cell_type": "code",
      "source": [
        "a6 = 10\n",
        "while a6 >= 0:\n",
        "  print(a6)\n",
        "  a6 -= 1\n"
      ],
      "metadata": {
        "colab": {
          "base_uri": "https://localhost:8080/"
        },
        "id": "f-XSAb6eIahw",
        "outputId": "b28b345f-2944-4a71-b0a7-4d3c079f83b9"
      },
      "execution_count": 9,
      "outputs": [
        {
          "output_type": "stream",
          "name": "stdout",
          "text": [
            "10\n",
            "9\n",
            "8\n",
            "7\n",
            "6\n",
            "5\n",
            "4\n",
            "3\n",
            "2\n",
            "1\n",
            "0\n"
          ]
        }
      ]
    },
    {
      "cell_type": "markdown",
      "source": [
        "Para a5=0 enquanto a5 menor ou igual a 10, incrementando 1, mostre na tela o seu número multiplicado por 10."
      ],
      "metadata": {
        "id": "qSntZ8CbLpJb"
      }
    },
    {
      "cell_type": "code",
      "source": [
        "a5 = 0\n",
        "while a5 <= 10:\n",
        "  print(a5 * 10)\n",
        "  a5 += 1"
      ],
      "metadata": {
        "colab": {
          "base_uri": "https://localhost:8080/"
        },
        "id": "W97G7m88L43D",
        "outputId": "8728f977-c304-4f82-e0f3-d6d8293d4066"
      },
      "execution_count": 10,
      "outputs": [
        {
          "output_type": "stream",
          "name": "stdout",
          "text": [
            "0\n",
            "10\n",
            "20\n",
            "30\n",
            "40\n",
            "50\n",
            "60\n",
            "70\n",
            "80\n",
            "90\n",
            "100\n"
          ]
        }
      ]
    },
    {
      "cell_type": "code",
      "source": [
        "for a5 in range (11):\n",
        "  print(a5 * 10)"
      ],
      "metadata": {
        "colab": {
          "base_uri": "https://localhost:8080/"
        },
        "id": "2Mxz_av8MEXV",
        "outputId": "a029177a-7e06-46c5-de85-69cb5c73a4b1"
      },
      "execution_count": 11,
      "outputs": [
        {
          "output_type": "stream",
          "name": "stdout",
          "text": [
            "0\n",
            "10\n",
            "20\n",
            "30\n",
            "40\n",
            "50\n",
            "60\n",
            "70\n",
            "80\n",
            "90\n",
            "100\n"
          ]
        }
      ]
    },
    {
      "cell_type": "markdown",
      "source": [
        "Crie um vetor de int vetA com tamanho 5 e mostre na tela os valores de seus elementos"
      ],
      "metadata": {
        "id": "NJ2KYYmLMoDS"
      }
    },
    {
      "cell_type": "code",
      "source": [
        "from random import randint\n",
        "vetA = []\n",
        "for i in range (5):\n",
        "    vetA.insert(i, randint(0, 100))\n",
        "print(vetA)"
      ],
      "metadata": {
        "colab": {
          "base_uri": "https://localhost:8080/"
        },
        "id": "jAYfrrjUMoyP",
        "outputId": "9cd9d50c-9dca-41a7-eb38-fb67b57069ed"
      },
      "execution_count": 13,
      "outputs": [
        {
          "output_type": "stream",
          "name": "stdout",
          "text": [
            "[28, 54, 46, 30, 91]\n"
          ]
        }
      ]
    },
    {
      "cell_type": "markdown",
      "source": [
        "Considere a lista de compras de Joana e faça o que se pede:\n",
        "\n",
        "lista_de_compras = [“batata”, “arroz”, “feijão”, “macarrão”, “detergente”]\n",
        "\n",
        "\n"
      ],
      "metadata": {
        "id": "u1fP20xJNiDB"
      }
    },
    {
      "cell_type": "markdown",
      "source": [
        "1 - Mostre na tela o tamanho da lista."
      ],
      "metadata": {
        "id": "kUaizJdzNu3Z"
      }
    },
    {
      "cell_type": "code",
      "source": [
        "lista_de_compras = ['batata', 'arroz', 'feijão', 'macarrão', 'detergente']\n",
        "print('Tem {} elementos na sua lista do mercado'.format(len(lista_de_compras)))"
      ],
      "metadata": {
        "colab": {
          "base_uri": "https://localhost:8080/"
        },
        "id": "t7KiQpYKNoWo",
        "outputId": "cff20020-a4c3-40a6-ffba-dcf047f78450"
      },
      "execution_count": 17,
      "outputs": [
        {
          "output_type": "stream",
          "name": "stdout",
          "text": [
            "Tem 5 elementos na sua lista do mercado\n"
          ]
        }
      ]
    },
    {
      "cell_type": "markdown",
      "source": [
        "2 - Joana descobriu que não precisa de arroz, mas sim de jiló. Realize a substituição do item."
      ],
      "metadata": {
        "id": "xT_JGEMDNyL2"
      }
    },
    {
      "cell_type": "code",
      "source": [
        "lista_de_compras = ['batata', 'arroz', 'feijão', 'macarrão', 'detergente']\n",
        "lista_de_compras[1] = 'jiló'\n",
        "print(lista_de_compras)"
      ],
      "metadata": {
        "colab": {
          "base_uri": "https://localhost:8080/"
        },
        "id": "K65Rn_RSN1oq",
        "outputId": "9fc35efb-d675-4874-edd3-abe6761569b7"
      },
      "execution_count": 18,
      "outputs": [
        {
          "output_type": "stream",
          "name": "stdout",
          "text": [
            "['batata', 'jiló', 'feijão', 'macarrão', 'detergente']\n"
          ]
        }
      ]
    },
    {
      "cell_type": "markdown",
      "source": [
        "3 - Joana encontrou um detergente na sua cozinha, elimine o item."
      ],
      "metadata": {
        "id": "pb5EV_T2N16a"
      }
    },
    {
      "cell_type": "code",
      "source": [
        "lista_de_compras = ['batata', 'jiló', 'feijão', 'macarrão', 'detergente']\n",
        "lista_de_compras.pop()\n",
        "print(lista_de_compras)"
      ],
      "metadata": {
        "colab": {
          "base_uri": "https://localhost:8080/"
        },
        "id": "M1UtQyOxN4tN",
        "outputId": "ced70c7a-7f12-415b-f800-9b0913d00478"
      },
      "execution_count": 19,
      "outputs": [
        {
          "output_type": "stream",
          "name": "stdout",
          "text": [
            "['batata', 'jiló', 'feijão', 'macarrão']\n"
          ]
        }
      ]
    },
    {
      "cell_type": "markdown",
      "source": [
        "4 - Joana se lembrou que precisa de abacates. Realize a inserção do item na lista\n"
      ],
      "metadata": {
        "id": "W_zuDWxRN45v"
      }
    },
    {
      "cell_type": "code",
      "source": [
        "lista_de_compras = ['batata', 'jiló', 'feijão', 'macarrão']\n",
        "lista_de_compras.insert(4, 'abacates')\n",
        "print(lista_de_compras)"
      ],
      "metadata": {
        "colab": {
          "base_uri": "https://localhost:8080/"
        },
        "id": "SsBmV32gN7we",
        "outputId": "cb722f18-7118-4cb9-d8ea-069abbe5af81"
      },
      "execution_count": 22,
      "outputs": [
        {
          "output_type": "stream",
          "name": "stdout",
          "text": [
            "['batata', 'jiló', 'feijão', 'macarrão', 'abacates']\n"
          ]
        }
      ]
    },
    {
      "cell_type": "markdown",
      "source": [
        "5 - Mostre todos os itens de forma individual utilizando um comando FOR.\n"
      ],
      "metadata": {
        "id": "Xl3w0mTTN8SA"
      }
    },
    {
      "cell_type": "code",
      "source": [
        "lista_de_compras = ['batata', 'jiló', 'feijão', 'macarrão', 'abacates']\n",
        "for i in range(len(lista_de_compras)):\n",
        "    print('O {}° item da lista é {}'.format(i + 1, lista_de_compras[i]))"
      ],
      "metadata": {
        "colab": {
          "base_uri": "https://localhost:8080/"
        },
        "id": "eRFdAwp-N_1g",
        "outputId": "8c769dc1-5417-4a55-a1e7-78249cb6086c"
      },
      "execution_count": 24,
      "outputs": [
        {
          "output_type": "stream",
          "name": "stdout",
          "text": [
            "O 1° item da lista é batata\n",
            "O 2° item da lista é jiló\n",
            "O 3° item da lista é feijão\n",
            "O 4° item da lista é macarrão\n",
            "O 5° item da lista é abacates\n"
          ]
        }
      ]
    }
  ]
}