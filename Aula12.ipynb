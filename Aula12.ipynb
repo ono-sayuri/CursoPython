{
  "nbformat": 4,
  "nbformat_minor": 0,
  "metadata": {
    "colab": {
      "name": "Aula12.ipynb",
      "provenance": [],
      "authorship_tag": "ABX9TyNaMowa0M3n885HgkE6PjoJ",
      "include_colab_link": true
    },
    "kernelspec": {
      "name": "python3",
      "display_name": "Python 3"
    },
    "language_info": {
      "name": "python"
    }
  },
  "cells": [
    {
      "cell_type": "markdown",
      "metadata": {
        "id": "view-in-github",
        "colab_type": "text"
      },
      "source": [
        "<a href=\"https://colab.research.google.com/github/ono-sayuri/CursoPython/blob/main/Aula12.ipynb\" target=\"_parent\"><img src=\"https://colab.research.google.com/assets/colab-badge.svg\" alt=\"Open In Colab\"/></a>"
      ]
    },
    {
      "cell_type": "markdown",
      "source": [
        "Crie uma classe Agenda que pode armazenar pessoas e que seja capaz de realizar as seguintes operações: \n",
        "\n",
        "armazenaPessoa(nome, cpf, telefone)\n",
        "\n",
        "removePessoa(nome); \n",
        "\n",
        "buscaPessoa(nome); // informa em que posição da agenda está a pessoa \n",
        "\n",
        "imprimeAgenda(); // imprime os dados de todas as pessoas da agenda \n",
        "\n",
        "imprimePessoa(i); // imprime os dados da pessoa que está na posição “i” da agenda.\n"
      ],
      "metadata": {
        "id": "oxhoRdN9Ca9r"
      }
    },
    {
      "cell_type": "code",
      "source": [
        "class Pessoa:\n",
        "  def __init__(self, nome, cpf, telefone):\n",
        "    self.__nome = nome\n",
        "    self.__cpf = cpf\n",
        "    self.__telefone = telefone\n",
        "\n",
        "  @property\n",
        "  def nome(self):\n",
        "    return self.__nome\n",
        "\n",
        "  @property\n",
        "  def cpf(self):\n",
        "    return self.__cpf\n",
        "\n",
        "  @property\n",
        "  def telefone(self):\n",
        "    return self.__telefone\n",
        "\n",
        "\n",
        "class Agenda:\n",
        "\n",
        "  def __init__(self):\n",
        "    self.__dados = []\n",
        "\n",
        "  def ArmazenaDados(self, nome, cpf, telefone):\n",
        "    p = Pessoa(nome, cpf, telefone)\n",
        "    self.__dados.append(p)\n",
        "\n",
        "  def RemoveDadosNome(self, nome):\n",
        "    try:\n",
        "      cadastro = self.__dados[self.BuscarDadosNome(nome)]\n",
        "      self.__dados.remove(cadastro)\n",
        "    except:\n",
        "      return 'Dados não encontrados'\n",
        "    else:\n",
        "      return f'{cadastro.nome} removido com sucesso!'\n",
        "\n",
        "  def BuscarDadosNome(self, nome):\n",
        "    for i, cadastro in enumerate (self.__dados):\n",
        "      if cadastro.nome == nome:\n",
        "        return i\n",
        "\n",
        "  def ImprimirAgenda(self):\n",
        "    print('\\n------ Agenda ------\\n')\n",
        "    for i, cadastro in enumerate(self.__dados):\n",
        "      print('Nome: {} | CPF: {} | Telefone: {}' .format(cadastro.nome, cadastro.cpf, cadastro.telefone))\n",
        "\n",
        " \n",
        "  def ImprimirPessoa(self, i):\n",
        "    try:\n",
        "      cadastro = self.__dados[i]\n",
        "    except:\n",
        "      print('\\nDados não existentes no índice', i)\n",
        "    else:\n",
        "      print('Nome: {} | CPF: {} | Telefone: {}' .format(cadastro.nome, cadastro.cpf, cadastro.telefone))\n",
        "\n",
        "p1 = Pessoa('Daniele', '05732735777', '(43) 99586-6417')\n",
        "p2 = Pessoa('Rafael', '74826890188', '(62) 98820-4988')\n",
        "p3 = Pessoa('Hideki', '84829750959', '(11) 99090-8585')\n",
        "\n",
        "a = Agenda()\n",
        "a.ArmazenaDados('Beatriz', '83427762154', '(32) 98737-4651')\n",
        "a.ArmazenaDados('Kelly', '06748932783', '(45) 9882-3213')\n",
        "a.ArmazenaDados('Hideki', '84829750959', '(11) 99090-8585')\n",
        "\n",
        "print(a.RemoveDadosNome('Kelly'))\n",
        "\n",
        "a.ImprimirAgenda()\n",
        "\n",
        "a.ImprimirPessoa(2)\n"
      ],
      "metadata": {
        "colab": {
          "base_uri": "https://localhost:8080/"
        },
        "id": "phVOmGEWChAS",
        "outputId": "a126b35b-e191-40ea-ed82-3e208bb52450"
      },
      "execution_count": 27,
      "outputs": [
        {
          "output_type": "stream",
          "name": "stdout",
          "text": [
            "Kelly removido com sucesso!\n",
            "\n",
            "------ Agenda ------\n",
            "\n",
            "Nome: Beatriz | CPF: 83427762154 | Telefone: (32) 98737-4651\n",
            "Nome: Hideki | CPF: 84829750959 | Telefone: (11) 99090-8585\n",
            "\n",
            "Dados não existentes no índice 2\n"
          ]
        }
      ]
    }
  ]
}