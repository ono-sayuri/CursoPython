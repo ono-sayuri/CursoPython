{
  "nbformat": 4,
  "nbformat_minor": 0,
  "metadata": {
    "colab": {
      "name": "Aula03.ipynb",
      "provenance": [],
      "authorship_tag": "ABX9TyN7p1c7PqwP4Ihjo3KbljPQ",
      "include_colab_link": true
    },
    "kernelspec": {
      "name": "python3",
      "display_name": "Python 3"
    },
    "language_info": {
      "name": "python"
    }
  },
  "cells": [
    {
      "cell_type": "markdown",
      "metadata": {
        "id": "view-in-github",
        "colab_type": "text"
      },
      "source": [
        "<a href=\"https://colab.research.google.com/github/ono-sayuri/CursoPython/blob/main/Aula03.ipynb\" target=\"_parent\"><img src=\"https://colab.research.google.com/assets/colab-badge.svg\" alt=\"Open In Colab\"/></a>"
      ]
    },
    {
      "cell_type": "markdown",
      "source": [
        "A medida de eficiência de um carro é medida em km/l (quantos km o carro anda com 1 litro de combustível). Faça um algoritmo que calcule a eficiência de um carro tendo como entrada a distância percorrida e a quantidade de combustível gasta em litros.\n",
        "\n",
        "Exemplo:\n",
        "\n",
        "distância percorrida = 300km\n",
        "\n",
        "quantidade gasta = 20 litros\n",
        "\n",
        "eficiência: 15km/l\n"
      ],
      "metadata": {
        "id": "rASsUlD7yoLJ"
      }
    },
    {
      "cell_type": "code",
      "execution_count": 17,
      "metadata": {
        "colab": {
          "base_uri": "https://localhost:8080/"
        },
        "id": "NR0PCsE7wuEY",
        "outputId": "0306fb00-b285-4eed-d94d-2e560c3570be"
      },
      "outputs": [
        {
          "output_type": "stream",
          "name": "stdout",
          "text": [
            "Insira a distância percorrida em km: 500\n",
            "Insira a quantidade de combustível gasto em litros: 25\n",
            "A eficiência do carro é de 20.0 km/l\n"
          ]
        }
      ],
      "source": [
        "distancia = int(input(\"Insira a distância percorrida em km: \"))\n",
        "combustivel = int(input(\"Insira a quantidade de combustível gasto em litros: \"))\n",
        "eficiencia = distancia / combustivel\n",
        "print(f\"A eficiência do carro é de {eficiencia} km/l\")"
      ]
    },
    {
      "cell_type": "markdown",
      "source": [
        "Atualmente existem os carros flex, ou seja, podem ser abastecidos com etanol ou gasolina. Geralmente um carro flex abastecido a etanol tem uma eficiência menor do mesmo abastecido com gasolina. Faça um algoritmo que tendo como entrada: eficiência do carro abastecido à gasolina (em km/l), eficiência do carro abastecido com etanol (em km/l), preço da gasolina por litro e preço do etanol por litro e mostre o valor do km rodado com cada um dos combustíveis.\n",
        "\n",
        "Exemplo:\n",
        "eficiência com gasolina: 15km/l\n",
        "\n",
        "preço da gasolina: R$ 4,50 por litro\n",
        "\n",
        "valor do km rodado com gasolina: R$ 0,30\n",
        "\n",
        "eficiência com etanol: 10km/l\n",
        "\n",
        "preço do etanol: R$ 3,50 por litro\t\t\n",
        "\n",
        "valor do km rodado com etanol: R$ 0,35\n"
      ],
      "metadata": {
        "id": "054AZym-zdCW"
      }
    },
    {
      "cell_type": "code",
      "source": [
        "eficiencia_gasolina = float(input(\"Insira a eficiência do carro [km/l] abastecido à gasolina: \"))\n",
        "gasolina = float(input(\"Insira o preço da gasolina: \"))\n",
        "eficiencia_etanol = float(input(\"Insira a eficiência do carro [km/l] abastecido com etanol: \"))\n",
        "etanol = float(input(\"Insira o preço do etanol: \"))\n",
        "km_gasolina = gasolina / eficiencia_gasolina\n",
        "km_etanol = etanol / eficiencia_etanol\n",
        "print(\"Distância percorrida com gasolina: {:.2f} [km]\" .format(km_gasolina))\n",
        "print(\"Distância percorrida com etanol: {:.2f} [km]\" .format(km_etanol))"
      ],
      "metadata": {
        "colab": {
          "base_uri": "https://localhost:8080/"
        },
        "id": "6oHrGYyozwoY",
        "outputId": "8bcd2229-4ebf-4f1e-99c2-472e768a305b"
      },
      "execution_count": 24,
      "outputs": [
        {
          "output_type": "stream",
          "name": "stdout",
          "text": [
            "Insira a eficiência do carro [km/l] abastecido à gasolina: 15\n",
            "Insira o preço da gasolina: 4.5\n",
            "Insira a eficiência do carro [km/l] abastecido com etanol: 10\n",
            "Insira o preço do etanol: 3.5\n",
            "Distância percorrida com gasolina: 0.30 [km]\n",
            "Distância percorrida com etanol: 0.35 [km]\n"
          ]
        }
      ]
    },
    {
      "cell_type": "markdown",
      "source": [
        "Um trabalhador trabalha 40 horas por semana. Escreva um algoritmo que leia o número de horas trabalhadas em cada semana de um mês, o salário por hora e escreva o salário total do mês do funcionário (considere que o mês possua 4 semanas exatas).\n"
      ],
      "metadata": {
        "id": "x4_9WFQp3Jiw"
      }
    },
    {
      "cell_type": "code",
      "source": [
        "semana1 = float(input(\"Insira as horas trabalhadas na primeira semana: \"))\n",
        "semana2 = float(input(\"Insira as horas trabalhadas na segunda semana: \"))\n",
        "semana3 = float(input(\"Insira as horas trabalhadas na terceira semana: \"))\n",
        "semana4 = float(input(\"Insira as horas trabalhadas na quarta semana: \"))\n",
        "salario = float(input(\"Insira o valor do salário por hora: \"))\n",
        "salario_total = (semana1 + semana2 + semana3 + semana4) * salario\n",
        "print(\"Salário total do mês R${:.2f}\" .format(salario_total))"
      ],
      "metadata": {
        "colab": {
          "base_uri": "https://localhost:8080/"
        },
        "id": "0NutJXSH2lRr",
        "outputId": "9fd202b5-55af-4113-bcd8-d52004d293c9"
      },
      "execution_count": 25,
      "outputs": [
        {
          "output_type": "stream",
          "name": "stdout",
          "text": [
            "Insira as horas trabalhadas na primeira semana: 40\n",
            "Insira as horas trabalhadas na segunda semana: 40\n",
            "Insira as horas trabalhadas na terceira semana: 40\n",
            "Insira as horas trabalhadas na quarta semana: 40\n",
            "Insira o valor do salário por hora: 45.50\n",
            "Salário total do mês R$7280.00\n"
          ]
        }
      ]
    },
    {
      "cell_type": "markdown",
      "source": [
        "Tenha como entrada dois números e exiba a sua divisão. Lembre-se que não é possível dividir por 0!"
      ],
      "metadata": {
        "id": "tMxtMvYJ4oGc"
      }
    },
    {
      "cell_type": "code",
      "source": [
        "n1 = float(input(\"Insira o primeiro número: \"))\n",
        "n2 = float(input(\"Insira o segundo número: \"))\n",
        "if n2 == 0: \n",
        "  print(\"Não é possível dividir por zero\")\n",
        "  n2 = float(input(\"Insira o segundo número: \"))\n",
        "  divisao = n1 / n2\n",
        "  print(\"A divisão é: {:.2f}\" .format(divisao))\n",
        "else:\n",
        "  divisao = n1 / n2\n",
        "  print(\"A divisão é: {:.2f}\" .format(divisao))"
      ],
      "metadata": {
        "colab": {
          "base_uri": "https://localhost:8080/"
        },
        "id": "dh6czmAd4uP4",
        "outputId": "3fb1cd2f-42c3-4162-ff8e-77470ec60af0"
      },
      "execution_count": 32,
      "outputs": [
        {
          "output_type": "stream",
          "name": "stdout",
          "text": [
            "Insira o primeiro número: 4\n",
            "Insira o segundo número: 0\n",
            "Não é possível dividir por zero\n",
            "Insira o segundo número: 2\n",
            "A divisão é: 2.00\n"
          ]
        }
      ]
    },
    {
      "cell_type": "markdown",
      "source": [
        "Ler uma nota de 0 à 10 de um aluno. Caso o usuário digite um valor inválido, mostrar a mensagem: \"Nota inválida! Digite um valor de 0 à 10!\"\n"
      ],
      "metadata": {
        "id": "BE_UxlhO4wgl"
      }
    },
    {
      "cell_type": "code",
      "source": [
        "nota = float(input(\"Insira a nota do aluno: \"))\n",
        "if nota >= 0 and nota <= 10:\n",
        "  print(\"Nota inserida com sucesso!\")\n",
        "else:\n",
        "  print(\"Nota inválida. Digite um valor entre 0 à 10.\")\n"
      ],
      "metadata": {
        "colab": {
          "base_uri": "https://localhost:8080/"
        },
        "id": "HVQxS4Pl4yxN",
        "outputId": "a0824ba9-7b97-4e61-b7f1-cb953adfdb25"
      },
      "execution_count": 48,
      "outputs": [
        {
          "output_type": "stream",
          "name": "stdout",
          "text": [
            "Insira a nota do aluno: 15\n",
            "Nota inválida. Digite um valor entre 0 à 10.\n"
          ]
        }
      ]
    }
  ]
}