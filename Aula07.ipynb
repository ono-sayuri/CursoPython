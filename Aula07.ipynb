{
  "nbformat": 4,
  "nbformat_minor": 0,
  "metadata": {
    "colab": {
      "name": "Aula07.ipynb",
      "provenance": [],
      "authorship_tag": "ABX9TyPqjNiz4WWMuwFTbSuuzqa4",
      "include_colab_link": true
    },
    "kernelspec": {
      "name": "python3",
      "display_name": "Python 3"
    },
    "language_info": {
      "name": "python"
    }
  },
  "cells": [
    {
      "cell_type": "markdown",
      "metadata": {
        "id": "view-in-github",
        "colab_type": "text"
      },
      "source": [
        "<a href=\"https://colab.research.google.com/github/ono-sayuri/CursoPython/blob/main/Aula07.ipynb\" target=\"_parent\"><img src=\"https://colab.research.google.com/assets/colab-badge.svg\" alt=\"Open In Colab\"/></a>"
      ]
    },
    {
      "cell_type": "markdown",
      "source": [
        "Mostrar na tela todos os números pares de 0 à 1000\n"
      ],
      "metadata": {
        "id": "SrbQnZWWdTf-"
      }
    },
    {
      "cell_type": "code",
      "execution_count": 7,
      "metadata": {
        "colab": {
          "base_uri": "https://localhost:8080/"
        },
        "id": "YJ2U1MQCdQ3c",
        "outputId": "2b1dd122-b8d8-4486-a329-db0ed08f8210"
      },
      "outputs": [
        {
          "output_type": "stream",
          "name": "stdout",
          "text": [
            "[0, 2, 4, 6, 8, 10, 12, 14, 16, 18, 20, 22, 24, 26, 28, 30, 32, 34, 36, 38, 40, 42, 44, 46, 48, 50, 52, 54, 56, 58, 60, 62, 64, 66, 68, 70, 72, 74, 76, 78, 80, 82, 84, 86, 88, 90, 92, 94, 96, 98, 100, 102, 104, 106, 108, 110, 112, 114, 116, 118, 120, 122, 124, 126, 128, 130, 132, 134, 136, 138, 140, 142, 144, 146, 148, 150, 152, 154, 156, 158, 160, 162, 164, 166, 168, 170, 172, 174, 176, 178, 180, 182, 184, 186, 188, 190, 192, 194, 196, 198, 200, 202, 204, 206, 208, 210, 212, 214, 216, 218, 220, 222, 224, 226, 228, 230, 232, 234, 236, 238, 240, 242, 244, 246, 248, 250, 252, 254, 256, 258, 260, 262, 264, 266, 268, 270, 272, 274, 276, 278, 280, 282, 284, 286, 288, 290, 292, 294, 296, 298, 300, 302, 304, 306, 308, 310, 312, 314, 316, 318, 320, 322, 324, 326, 328, 330, 332, 334, 336, 338, 340, 342, 344, 346, 348, 350, 352, 354, 356, 358, 360, 362, 364, 366, 368, 370, 372, 374, 376, 378, 380, 382, 384, 386, 388, 390, 392, 394, 396, 398, 400, 402, 404, 406, 408, 410, 412, 414, 416, 418, 420, 422, 424, 426, 428, 430, 432, 434, 436, 438, 440, 442, 444, 446, 448, 450, 452, 454, 456, 458, 460, 462, 464, 466, 468, 470, 472, 474, 476, 478, 480, 482, 484, 486, 488, 490, 492, 494, 496, 498, 500, 502, 504, 506, 508, 510, 512, 514, 516, 518, 520, 522, 524, 526, 528, 530, 532, 534, 536, 538, 540, 542, 544, 546, 548, 550, 552, 554, 556, 558, 560, 562, 564, 566, 568, 570, 572, 574, 576, 578, 580, 582, 584, 586, 588, 590, 592, 594, 596, 598, 600, 602, 604, 606, 608, 610, 612, 614, 616, 618, 620, 622, 624, 626, 628, 630, 632, 634, 636, 638, 640, 642, 644, 646, 648, 650, 652, 654, 656, 658, 660, 662, 664, 666, 668, 670, 672, 674, 676, 678, 680, 682, 684, 686, 688, 690, 692, 694, 696, 698, 700, 702, 704, 706, 708, 710, 712, 714, 716, 718, 720, 722, 724, 726, 728, 730, 732, 734, 736, 738, 740, 742, 744, 746, 748, 750, 752, 754, 756, 758, 760, 762, 764, 766, 768, 770, 772, 774, 776, 778, 780, 782, 784, 786, 788, 790, 792, 794, 796, 798, 800, 802, 804, 806, 808, 810, 812, 814, 816, 818, 820, 822, 824, 826, 828, 830, 832, 834, 836, 838, 840, 842, 844, 846, 848, 850, 852, 854, 856, 858, 860, 862, 864, 866, 868, 870, 872, 874, 876, 878, 880, 882, 884, 886, 888, 890, 892, 894, 896, 898, 900, 902, 904, 906, 908, 910, 912, 914, 916, 918, 920, 922, 924, 926, 928, 930, 932, 934, 936, 938, 940, 942, 944, 946, 948, 950, 952, 954, 956, 958, 960, 962, 964, 966, 968, 970, 972, 974, 976, 978, 980, 982, 984, 986, 988, 990, 992, 994, 996, 998, 1000]\n"
          ]
        }
      ],
      "source": [
        "par = []\n",
        "for i in range(1001):\n",
        "  if i % 2 == 0:\n",
        "    par.insert(i, i)\n",
        "print(par)"
      ]
    },
    {
      "cell_type": "markdown",
      "source": [
        "Mostrar na tela todos os números ímpares de 5 à 55\n"
      ],
      "metadata": {
        "id": "W6SvN0kbfJT9"
      }
    },
    {
      "cell_type": "code",
      "source": [
        "impar = []\n",
        "for i in range(5,56):\n",
        "  if i % 2 != 0:\n",
        "    impar.insert(i, i)\n",
        "print(impar)\n"
      ],
      "metadata": {
        "colab": {
          "base_uri": "https://localhost:8080/"
        },
        "id": "vHXVy6QYfTSe",
        "outputId": "bb2f46a9-fbf7-4483-88e5-a637fb3b06b2"
      },
      "execution_count": 8,
      "outputs": [
        {
          "output_type": "stream",
          "name": "stdout",
          "text": [
            "[5, 7, 9, 11, 13, 15, 17, 19, 21, 23, 25, 27, 29, 31, 33, 35, 37, 39, 41, 43, 45, 47, 49, 51, 53, 55]\n"
          ]
        }
      ]
    },
    {
      "cell_type": "markdown",
      "source": [
        "Mostrar na tela somente números primos de 2 à 100"
      ],
      "metadata": {
        "id": "wrt_aGcpgjTX"
      }
    },
    {
      "cell_type": "code",
      "source": [
        "numero_primo = set() #não repetir os números\n",
        "for i in range(2,101):\n",
        "  if i > 1:\n",
        "    for a in range (2, i):\n",
        "      if(i % a == 0):\n",
        "        break\n",
        "    else:\n",
        "      numero_primo.add(i)\n",
        "print(numero_primo)\n"
      ],
      "metadata": {
        "colab": {
          "base_uri": "https://localhost:8080/"
        },
        "id": "0oP81rLlgj0L",
        "outputId": "c6e1ff83-0075-4913-f2dd-e7f1faa654d2"
      },
      "execution_count": 48,
      "outputs": [
        {
          "output_type": "stream",
          "name": "stdout",
          "text": [
            "{2, 3, 5, 7, 11, 13, 17, 19, 23, 29, 31, 37, 41, 43, 47, 53, 59, 61, 67, 71, 73, 79, 83, 89, 97}\n"
          ]
        }
      ]
    },
    {
      "cell_type": "markdown",
      "source": [
        "Crie uma list de int vetB com tamanho 5, insira um inteiro com entrada do teclado para cada um dos elementos e mostre na tela os seus valores após a inserção dos elementos."
      ],
      "metadata": {
        "id": "YWRG1-RYiXji"
      }
    },
    {
      "cell_type": "code",
      "source": [
        "vetB = []\n",
        "for i in range(0, 5):\n",
        "    n = int(input('Digite o valor do {}º valor da lista: '.format(i+1)))\n",
        "    vetB.insert(i, n)\n",
        "print('Lista: {}' .format(vetB))"
      ],
      "metadata": {
        "colab": {
          "base_uri": "https://localhost:8080/"
        },
        "id": "GT4EO7mwibbP",
        "outputId": "53b3fe59-d508-4f73-96b1-91ad58e117b5"
      },
      "execution_count": 25,
      "outputs": [
        {
          "output_type": "stream",
          "name": "stdout",
          "text": [
            "Digite o valor do 1º valor da lista: 21\n",
            "Digite o valor do 2º valor da lista: 50\n",
            "Digite o valor do 3º valor da lista: 77\n",
            "Digite o valor do 4º valor da lista: 98\n",
            "Digite o valor do 5º valor da lista: 06\n",
            "Lista: [21, 50, 77, 98, 6]\n"
          ]
        }
      ]
    },
    {
      "cell_type": "markdown",
      "source": [
        "Crie uma list de int vetD com tamanho 50, atribua ao conteúdo de cada um de seus elementos o valor de seu índice e mostre o valor de cada um dos elementos na tela multiplicados por 2."
      ],
      "metadata": {
        "id": "KUFkb7skiiPR"
      }
    },
    {
      "cell_type": "code",
      "source": [
        "vetD = []\n",
        "for i in range(0, 50):\n",
        "    vetD.insert(i, i*2)\n",
        "print(vetD)\n"
      ],
      "metadata": {
        "colab": {
          "base_uri": "https://localhost:8080/"
        },
        "id": "HaKiIvKmilaC",
        "outputId": "d880ff13-8673-4523-ba89-f59717302c80"
      },
      "execution_count": 33,
      "outputs": [
        {
          "output_type": "stream",
          "name": "stdout",
          "text": [
            "[0, 2, 4, 6, 8, 10, 12, 14, 16, 18, 20, 22, 24, 26, 28, 30, 32, 34, 36, 38, 40, 42, 44, 46, 48, 50, 52, 54, 56, 58, 60, 62, 64, 66, 68, 70, 72, 74, 76, 78, 80, 82, 84, 86, 88, 90, 92, 94, 96, 98]\n"
          ]
        }
      ]
    },
    {
      "cell_type": "markdown",
      "source": [
        "Crie uma tupla contendo todos os meses do ano e mostre qual mês corresponde ao índice 8."
      ],
      "metadata": {
        "id": "kPxBQzMiinpy"
      }
    },
    {
      "cell_type": "code",
      "source": [
        "meses_do_ano = ('Janeiro', 'Fevereiro', 'Março', 'Abril', 'Maio', 'Junho', 'Julho', 'Agosto', 'Setembro', 'Outubro', 'Novembro', 'Dezembro')\n",
        "print(meses_do_ano[8])"
      ],
      "metadata": {
        "colab": {
          "base_uri": "https://localhost:8080/"
        },
        "id": "Uez64-dQioAT",
        "outputId": "256f5755-1423-4bcd-d4b5-053c4ab518d8"
      },
      "execution_count": 14,
      "outputs": [
        {
          "output_type": "stream",
          "name": "stdout",
          "text": [
            "Setembro\n"
          ]
        }
      ]
    },
    {
      "cell_type": "markdown",
      "source": [
        "Crie um set contendo as partes de um computador e depois adicione o item “memória RAM” e mostre o set na tela."
      ],
      "metadata": {
        "id": "-T_3xUIFjPY1"
      }
    },
    {
      "cell_type": "code",
      "source": [
        "computador = set()\n",
        "computador = {'Monitor', 'Teclado', 'Mouse', 'Desktop', 'Processador', 'Placa de Vídeo'}\n",
        "computador.add('Memória RAM')\n",
        "print(computador)"
      ],
      "metadata": {
        "colab": {
          "base_uri": "https://localhost:8080/"
        },
        "id": "lq60ixDgjS79",
        "outputId": "679f68d9-ce53-48af-87df-bef76e844dff"
      },
      "execution_count": 23,
      "outputs": [
        {
          "output_type": "stream",
          "name": "stdout",
          "text": [
            "{'Monitor', 'Mouse', 'Teclado', 'Placa de Vídeo', 'Memória RAM', 'Processador', 'Desktop'}\n"
          ]
        }
      ]
    },
    {
      "cell_type": "markdown",
      "source": [
        "Crie um dicionário que guarde as informações de 5 conceitos de Python que você aprendeu até agora. \n"
      ],
      "metadata": {
        "id": "141nL9X_jgbk"
      }
    },
    {
      "cell_type": "code",
      "source": [
        "python = {\n",
        "    'obter o tamanho de um texo' : 'print(len(texto))',\n",
        "    'laços de repetição' : 'while / for',\n",
        "    'condições' : 'if / else',\n",
        "    'listas' : 'pode guardar vários valores dentro de uma única variável',\n",
        "    'tuplas' : 'coleção de itens imutáveis'\n",
        "}"
      ],
      "metadata": {
        "id": "iSYFqXU_ji60"
      },
      "execution_count": 32,
      "outputs": []
    }
  ]
}